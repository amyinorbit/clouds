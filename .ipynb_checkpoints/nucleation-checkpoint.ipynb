{
 "cells": [
  {
   "cell_type": "code",
   "execution_count": 2,
   "metadata": {},
   "outputs": [],
   "source": [
    "import numpy as np\n",
    "from matplotlib.pyplot import *\n",
    "from jupyterthemes import jtplot\n",
    "%matplotlib inline\n",
    "jtplot.style(theme='solarizedl', context='notebook', ticks=True)"
   ]
  },
  {
   "cell_type": "code",
   "execution_count": 3,
   "metadata": {},
   "outputs": [],
   "source": [
    "gamma = 7/5\n",
    "h_s = 7.99e3\n",
    "t_s = 273 + 15\n",
    "p_s = 101325\n",
    "rho_s = 1.225\n",
    "\n",
    "z = np.linspace(1, 25e3)\n",
    "x = np.linspace(0, 100e3)\n",
    "x,z = np.meshgrid(x, z)\n",
    "t0 = t_s * (1 - ((gamma-1)/gamma) * (z/h_s))\n",
    "t0[t0<0] = 0"
   ]
  },
  {
   "cell_type": "code",
   "execution_count": 4,
   "metadata": {},
   "outputs": [],
   "source": [
    "common = 1 - ((gamma-1)/gamma) * (z/h_s)\n",
    "\n",
    "p0 = p_s * common ** (gamma/(gamma-1))\n",
    "rho0 = rho_s * common ** (1/(gamma-1))"
   ]
  },
  {
   "cell_type": "code",
   "execution_count": 5,
   "metadata": {},
   "outputs": [],
   "source": [
    "noise = np.random.normal(1.0, 0.1, t0.shape)\n",
    "t = noise * t0\n",
    "rho = rho0 * (t0/t) ** (1-gamma)\n",
    "p = p0 * (t0/t)**(gamma/(1-gamma))"
   ]
  },
  {
   "cell_type": "code",
   "execution_count": 6,
   "metadata": {},
   "outputs": [],
   "source": [
    "H = 0.5\n",
    "p0_sat = 611 * np.exp((17.2 * (t0-273.3))/t0)\n",
    "p0_h2o = H * p0_sat\n",
    "\n",
    "p_sat = 611 * np.exp((17.2 * (t-273.3))/t)\n",
    "p_h2o = p0_h2o * (t0/t)**(gamma/(1-gamma))\n"
   ]
  },
  {
   "cell_type": "code",
   "execution_count": 7,
   "metadata": {},
   "outputs": [
    {
     "data": {
      "text/plain": [
       "<matplotlib.colorbar.Colorbar at 0x7f2a0d442cd0>"
      ]
     },
     "execution_count": 7,
     "metadata": {},
     "output_type": "execute_result"
    },
    {
     "data": {
      "image/png": "[encoded data removed]",
      "text/plain": [
       "<Figure size 432x288 with 2 Axes>"
      ]
     },
     "metadata": {
      "needs_background": "light"
     },
     "output_type": "display_data"
    }
   ],
   "source": [
    "pcolor(x, z, p_h2o)\n",
    "colorbar()"
   ]
  },
  {
   "cell_type": "markdown",
   "metadata": {},
   "source": [
    "## Physical Constants"
   ]
  },
  {
   "cell_type": "code",
   "execution_count": 8,
   "metadata": {},
   "outputs": [],
   "source": [
    "sigma = 72e-3\n",
    "m1 = 2.99e-23\n",
    "v1 = 997.0\n",
    "kb = 1.38e-23\n",
    "S = p_h2o/p_sat\n"
   ]
  },
  {
   "cell_type": "markdown",
   "metadata": {},
   "source": [
    "## Experimenting with Nucleation"
   ]
  },
  {
   "cell_type": "code",
   "execution_count": null,
   "metadata": {},
   "outputs": [],
   "source": []
  }
 ],
 "metadata": {
  "kernelspec": {
   "display_name": "Python 3",
   "language": "python",
   "name": "python3"
  },
  "language_info": {
   "codemirror_mode": {
    "name": "ipython",
    "version": 3
   },
   "file_extension": ".py",
   "mimetype": "text/x-python",
   "name": "python",
   "nbconvert_exporter": "python",
   "pygments_lexer": "ipython3",
   "version": "3.7.5"
  }
 },
 "nbformat": 4,
 "nbformat_minor": 2
}
